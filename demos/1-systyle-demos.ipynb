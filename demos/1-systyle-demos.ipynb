{
 "cells": [
  {
   "cell_type": "markdown",
   "metadata": {},
   "source": [
    "# Demonstration of systyle"
   ]
  },
  {
   "cell_type": "code",
   "execution_count": null,
   "metadata": {},
   "outputs": [],
   "source": [
    "import systyle as sty\n",
    "import numpy as np"
   ]
  },
  {
   "cell_type": "code",
   "execution_count": null,
   "metadata": {},
   "outputs": [],
   "source": [
    "sty.reset_plots()\n",
    "sty.auto_reload_code()"
   ]
  },
  {
   "cell_type": "markdown",
   "metadata": {},
   "source": [
    "# Simple linear plot"
   ]
  },
  {
   "cell_type": "code",
   "execution_count": null,
   "metadata": {},
   "outputs": [],
   "source": [
    "x = np.linspace(0,1)\n",
    "y = np.linspace(0,1)\n",
    "fig, ax = sty.plot()\n",
    "ax.plot(x,y, '-k')\n",
    "ax.set_xlabel('x-value, $x$ (arb)')\n",
    "ax.set_ylabel('y-value, $y$ (arb)')\n",
    "sty.remove_tex_axis(ax, xtick_fmt='%.1f', ytick_fmt='%.1f')"
   ]
  },
  {
   "cell_type": "markdown",
   "metadata": {},
   "source": [
    "# Bootstrapped linear regression"
   ]
  },
  {
   "cell_type": "code",
   "execution_count": null,
   "metadata": {},
   "outputs": [],
   "source": [
    "from systyle.visualise import plot_bootstrapped_lr"
   ]
  },
  {
   "cell_type": "code",
   "execution_count": null,
   "metadata": {},
   "outputs": [],
   "source": [
    "y = np.linspace(0,1) + np.random.normal(0, 0.25, size=50)"
   ]
  },
  {
   "cell_type": "code",
   "execution_count": null,
   "metadata": {},
   "outputs": [],
   "source": [
    "fig, ax = sty.plot()\n",
    "ax.plot(x, y, '.k')\n",
    "plot_bootstrapped_lr(x,y, ax_handle=ax)\n",
    "ax.set_xlabel('x-value, $x$ (arb)')\n",
    "ax.set_ylabel('y-value, $y$ (arb)')\n",
    "sty.remove_tex_axis(ax, xtick_fmt='%.1f', ytick_fmt='%.1f')"
   ]
  },
  {
   "cell_type": "markdown",
   "metadata": {},
   "source": [
    "# Simple axis"
   ]
  },
  {
   "cell_type": "code",
   "execution_count": null,
   "metadata": {},
   "outputs": [],
   "source": [
    "x = np.linspace(0,1)\n",
    "y = np.linspace(0,1)\n",
    "fig, ax = sty.plot()\n",
    "ax.plot(x,y, '-k')\n",
    "ax.set_xlabel('x-value, $x$ (arb)')\n",
    "ax.set_ylabel('y-value, $y$ (arb)')\n",
    "sty.simpleaxis(ax)\n",
    "sty.remove_tex_axis(ax, xtick_fmt='%.1f', ytick_fmt='%.1f')"
   ]
  },
  {
   "cell_type": "markdown",
   "metadata": {},
   "source": [
    "# Legend outside"
   ]
  },
  {
   "cell_type": "code",
   "execution_count": null,
   "metadata": {},
   "outputs": [],
   "source": [
    "x = np.linspace(0,1)\n",
    "y = np.linspace(0,1)\n",
    "z = 1.5*np.linspace(0,1)\n",
    "fig, ax = sty.plot()\n",
    "ax.plot(x,y, '-k', label='y')\n",
    "ax.plot(x,z, '-r', label='z')\n",
    "ax.set_xlabel('x-value, $x$ (arb)')\n",
    "ax.set_ylabel('Value, (arb)')\n",
    "sty.simpleaxis(ax)\n",
    "sty.legend_outside(ax)\n",
    "sty.remove_tex_axis(ax, xtick_fmt='%.1f', ytick_fmt='%.1f')"
   ]
  },
  {
   "cell_type": "markdown",
   "metadata": {},
   "source": [
    "# Jitter plots"
   ]
  },
  {
   "cell_type": "code",
   "execution_count": null,
   "metadata": {},
   "outputs": [],
   "source": [
    "import pandas as pd\n",
    "from systyle.visualise import make_jitter_plots"
   ]
  },
  {
   "cell_type": "code",
   "execution_count": null,
   "metadata": {},
   "outputs": [],
   "source": [
    "df = pd.DataFrame(data= np.random.normal(size=(100,4)), columns=['a1', 'a2', 'a3', 'a4'])"
   ]
  },
  {
   "cell_type": "code",
   "execution_count": null,
   "metadata": {},
   "outputs": [],
   "source": [
    "fig, ax = make_jitter_plots(df, df.columns, ylabel='Values, (arb)', alpha=0.5)\n",
    "sty.remove_tex_axis(ax, ytick_fmt='%d', axis_remove='y')"
   ]
  },
  {
   "cell_type": "markdown",
   "metadata": {},
   "source": [
    "## Heat map"
   ]
  },
  {
   "cell_type": "code",
   "execution_count": null,
   "metadata": {},
   "outputs": [],
   "source": [
    "from systyle.visualise import make_heatmap"
   ]
  },
  {
   "cell_type": "code",
   "execution_count": null,
   "metadata": {},
   "outputs": [],
   "source": [
    "z = np.random.normal(size=(5,5))"
   ]
  },
  {
   "cell_type": "code",
   "execution_count": null,
   "metadata": {},
   "outputs": [],
   "source": [
    "make_heatmap(z,'x label', 'y label' ,'z label', np.arange(5), np.arange(5))"
   ]
  }
 ],
 "metadata": {
  "kernelspec": {
   "display_name": "Python 3",
   "language": "python",
   "name": "python3"
  },
  "language_info": {
   "codemirror_mode": {
    "name": "ipython",
    "version": 3
   },
   "file_extension": ".py",
   "mimetype": "text/x-python",
   "name": "python",
   "nbconvert_exporter": "python",
   "pygments_lexer": "ipython3",
   "version": "3.8.1"
  }
 },
 "nbformat": 4,
 "nbformat_minor": 4
}
